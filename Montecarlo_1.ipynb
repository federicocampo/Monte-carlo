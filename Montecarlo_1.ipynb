{
  "nbformat": 4,
  "nbformat_minor": 0,
  "metadata": {
    "colab": {
      "name": "Montecarlo_funzioneprof.ipynb",
      "provenance": [],
      "collapsed_sections": [
        "HAGmVB_NCNKD"
      ],
      "toc_visible": true,
      "authorship_tag": "ABX9TyNjZg1KHKIhFA1HFXe/wRME",
      "include_colab_link": true
    },
    "kernelspec": {
      "name": "python3",
      "display_name": "Python 3"
    }
  },
  "cells": [
    {
      "cell_type": "markdown",
      "metadata": {
        "id": "view-in-github",
        "colab_type": "text"
      },
      "source": [
        "<a href=\"https://colab.research.google.com/github/federicocampo/Monte-carlo/blob/main/Montecarlo_1.ipynb\" target=\"_parent\"><img src=\"https://colab.research.google.com/assets/colab-badge.svg\" alt=\"Open In Colab\"/></a>"
      ]
    },
    {
      "cell_type": "code",
      "metadata": {
        "id": "nNI2gvnMCX5z"
      },
      "source": [
        "import numpy as np\r\n",
        "import math\r\n",
        "import matplotlib.pyplot as plt\r\n",
        "#%matplotlib inline\r\n",
        "from numpy.random import random as rand\r\n",
        "from scipy.optimize import curve_fit"
      ],
      "execution_count": 2,
      "outputs": []
    },
    {
      "cell_type": "markdown",
      "metadata": {
        "id": "Z0kpXuVhXeeV"
      },
      "source": [
        "#Rigetto"
      ]
    },
    {
      "cell_type": "code",
      "metadata": {
        "colab": {
          "base_uri": "https://localhost:8080/",
          "height": 301
        },
        "id": "Lxf03FTAXdyN",
        "outputId": "a89e5e41-dcb2-4bdf-987e-f84a3f498374"
      },
      "source": [
        "N = 100000\r\n",
        "np.random.seed(42)\r\n",
        "\r\n",
        "    \r\n",
        "def P(x):\r\n",
        "    return np.exp(1/(1+x**2))-1\r\n",
        "\r\n",
        "\r\n",
        "x_ok=[]    \r\n",
        "x_no=[]\r\n",
        "M = math.e - 1\r\n",
        "\r\n",
        "b = 1\r\n",
        "for i in range(N):\r\n",
        "    x =  5*(rand()-0.5)\r\n",
        "    y = M * rand()\r\n",
        "    if y < P(x) : x_ok.append(x)\r\n",
        "    else: x_no.append(x)\r\n",
        "    \r\n",
        "print(f'Accettati: {len(x_ok)} / {N}')\r\n",
        "print(f'Rifiutati: {len(x_no)} /{N}')\r\n",
        "\r\n",
        "y, bins_edges, patches = plt.hist(x_ok, bins = 100)\r\n",
        "plt.show()"
      ],
      "execution_count": 3,
      "outputs": [
        {
          "output_type": "stream",
          "text": [
            "Accettati: 39602 / 100000\n",
            "Rifiutati: 60398 /100000\n"
          ],
          "name": "stdout"
        },
        {
          "output_type": "display_data",
          "data": {
            "image/png": "[encoded data removed]",
            "text/plain": [
              "<Figure size 432x288 with 1 Axes>"
            ]
          },
          "metadata": {
            "tags": [],
            "needs_background": "light"
          }
        }
      ]
    },
    {
      "cell_type": "markdown",
      "metadata": {
        "id": "dKOznqJ1L0Rq"
      },
      "source": [
        "#Rigetto ottimizzato con maggiorante "
      ]
    },
    {
      "cell_type": "markdown",
      "metadata": {
        "id": "bWplVd7dM6fr"
      },
      "source": [
        "(e-1)/(1+x^2)"
      ]
    },
    {
      "cell_type": "code",
      "metadata": {
        "id": "AziV83oLL3RX",
        "colab": {
          "base_uri": "https://localhost:8080/",
          "height": 301
        },
        "outputId": "3aac023c-c444-4751-8e86-06f04324b759"
      },
      "source": [
        "N = 1000000\r\n",
        "np.random.seed(42)\r\n",
        "\r\n",
        "\r\n",
        "\r\n",
        "def G(x):\r\n",
        "    return -1/(np.tan(np.pi * x))   \r\n",
        "\r\n",
        "def g(x):\r\n",
        "  return (math.e -1)/(1+x**2)\r\n",
        "\r\n",
        "\r\n",
        "def P(x):\r\n",
        "    return np.exp(1/(1+x**2))-1\r\n",
        "\r\n",
        "\r\n",
        "\r\n",
        "\r\n",
        "\r\n",
        "x_ok=[]    \r\n",
        "x_no=[]\r\n",
        "\r\n",
        "\r\n",
        "b = 5\r\n",
        "for i in range(N):\r\n",
        "    r = rand()\r\n",
        "    x = G(r)\r\n",
        "    r = rand() * g(x)\r\n",
        "\r\n",
        "    if r <= P(x) : x_ok.append(x)\r\n",
        "    else: x_no.append(x)\r\n",
        "    \r\n",
        "print(f'Accettati: {len(x_ok)} / {N}')\r\n",
        "print(f'Rifiutati: {len(x_no)} /{N}')\r\n",
        "\r\n",
        "y, bins_edges, patches = plt.hist(x_ok,range=(-5, 5),  bins = 100, density = True)\r\n",
        "\r\n",
        "plt.show()"
      ],
      "execution_count": null,
      "outputs": [
        {
          "output_type": "stream",
          "text": [
            "Accettati: 773275 / 1000000\n",
            "Rifiutati: 226725 /1000000\n"
          ],
          "name": "stdout"
        },
        {
          "output_type": "display_data",
          "data": {
            "image/png": "[encoded data removed]",
            "text/plain": [
              "<Figure size 432x288 with 1 Axes>"
            ]
          },
          "metadata": {
            "tags": [],
            "needs_background": "light"
          }
        }
      ]
    },
    {
      "cell_type": "markdown",
      "metadata": {
        "id": "B_xbxXl0Q-Xd"
      },
      "source": [
        "# Fit alla distribuzione"
      ]
    },
    {
      "cell_type": "code",
      "metadata": {
        "colab": {
          "base_uri": "https://localhost:8080/",
          "height": 320
        },
        "id": "lWOcjGxaNf2u",
        "outputId": "8265ca6c-5a68-43f4-c56f-ba7e64690bb6"
      },
      "source": [
        "def fun(x, a, b):\r\n",
        "  return a*(np.exp(1/(1+(x-b)**2))-1)\r\n",
        "\r\n",
        "\r\n",
        "\r\n",
        "\r\n",
        "bin_center = bins_edges[:-1] + np.diff(bins_edges) / 2\r\n",
        "\r\n",
        "initial_values=(1,1 )\r\n",
        "popt, pcov=curve_fit(fun, bin_center, y, p0=initial_values)\r\n",
        "errpopt=np.sqrt(pcov.diagonal())\r\n",
        "\r\n",
        "plt.hist(x_ok,range=(-5, 5), bins = 100, density = True)\r\n",
        "plt.plot(bin_center, fun(bin_center, *popt), color='r')\r\n",
        "\r\n",
        "\r\n",
        "for i in range(len(popt)):\r\n",
        "    print(f'{popt[i]} +\\- {errpopt[i]}')\r\n",
        "\r\n",
        "dy = np.sqrt(y)\r\n",
        "chisq=(  ((y - fun(bin_center, *popt) )/dy )**2  ).sum()\r\n",
        "print(f'Chiquadro fit = {chisq}')"
      ],
      "execution_count": null,
      "outputs": [
        {
          "output_type": "stream",
          "text": [
            "0.2647177841067787 +\\- 0.0002254359436804036\n",
            "-0.0016753610247689102 +\\- 0.0009367639655340643\n",
            "Chiquadro fit = 0.001488725728923543\n"
          ],
          "name": "stdout"
        },
        {
          "output_type": "display_data",
          "data": {
            "image/png": "[encoded data removed]",
            "text/plain": [
              "<Figure size 432x288 with 1 Axes>"
            ]
          },
          "metadata": {
            "tags": [],
            "needs_background": "light"
          }
        }
      ]
    },
    {
      "cell_type": "code",
      "metadata": {
        "id": "bcumt-pXUJ-E"
      },
      "source": [
        ""
      ],
      "execution_count": null,
      "outputs": []
    }
  ]
}