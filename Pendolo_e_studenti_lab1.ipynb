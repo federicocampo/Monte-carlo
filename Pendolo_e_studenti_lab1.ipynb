{
  "nbformat": 4,
  "nbformat_minor": 0,
  "metadata": {
    "colab": {
      "name": "Pendolo e studenti lab1.ipynb",
      "provenance": [],
      "authorship_tag": "ABX9TyPAjRORFr3xN9+D5Dr2Ry5n",
      "include_colab_link": true
    },
    "kernelspec": {
      "name": "python3",
      "display_name": "Python 3"
    }
  },
  "cells": [
    {
      "cell_type": "markdown",
      "metadata": {
        "id": "view-in-github",
        "colab_type": "text"
      },
      "source": [
        "<a href=\"https://colab.research.google.com/github/federicocampo/Monte-carlo/blob/main/Pendolo_e_studenti_lab1.ipynb\" target=\"_parent\"><img src=\"https://colab.research.google.com/assets/colab-badge.svg\" alt=\"Open In Colab\"/></a>"
      ]
    },
    {
      "cell_type": "code",
      "metadata": {
        "id": "y-fmrldNStvK"
      },
      "source": [
        "import numpy as np\r\n",
        "import matplotlib.pyplot as plt\r\n",
        "from numpy.random import random as rand"
      ],
      "execution_count": 2,
      "outputs": []
    },
    {
      "cell_type": "markdown",
      "metadata": {
        "id": "LmArGfXMZP_r"
      },
      "source": [
        "#Se non si tiene conto di isocronismo"
      ]
    },
    {
      "cell_type": "code",
      "metadata": {
        "colab": {
          "base_uri": "https://localhost:8080/",
          "height": 265
        },
        "id": "k-daV3G2S9Tl",
        "outputId": "b73735cf-adfa-43e3-ff86-7a4ec844bb99"
      },
      "source": [
        "N = 1000\r\n",
        "lenght = 1\r\n",
        "g_real = 9.81\r\n",
        "period_0 = 2*np.pi*np.sqrt(lenght/g_real)\r\n",
        "theta_0 = 10/57.3 #rad = deg/57.3 \r\n",
        "g_meas = [] # g experimentally measured\r\n",
        "\r\n",
        "for i in range(N):\r\n",
        "  theta = theta_0 * rand()\r\n",
        "  period = period_0*(1+theta*theta/16)\r\n",
        "  g = 4*np.pi*np.pi*lenght/period**2\r\n",
        "  g_meas.append(g)\r\n",
        "\r\n",
        "plt.hist(g_meas, bins = 20)\r\n",
        "plt.show()"
      ],
      "execution_count": 4,
      "outputs": [
        {
          "output_type": "display_data",
          "data": {
            "image/png": "[encoded data removed]",
            "text/plain": [
              "<Figure size 432x288 with 1 Axes>"
            ]
          },
          "metadata": {
            "tags": [],
            "needs_background": "light"
          }
        }
      ]
    },
    {
      "cell_type": "markdown",
      "metadata": {
        "id": "bbeuEgzpbJcT"
      },
      "source": [
        "# 2:\r\n",
        "*  No isocronismo \r\n",
        "*  Tempo di reazione\r\n",
        "\r\n"
      ]
    },
    {
      "cell_type": "code",
      "metadata": {
        "colab": {
          "base_uri": "https://localhost:8080/",
          "height": 265
        },
        "id": "42mk1T3eVxEP",
        "outputId": "f078cc59-b0d4-4d7b-ac17-00ea2dcfeef4"
      },
      "source": [
        "N = 1000\r\n",
        "lenght = 1\r\n",
        "g_real = 9.81\r\n",
        "period_0 = 2*np.pi*np.sqrt(lenght/g_real)\r\n",
        "theta_0 = 10/57.3 #rad = deg/57.3 \r\n",
        "g_meas = [] # g experimentally measured\r\n",
        "\r\n",
        "N_period = 10\r\n",
        "\r\n",
        "for i in range(N):\r\n",
        "  '''\r\n",
        "  Faccio partire il pendolo da un theta_0,\r\n",
        "  misuro il tempo di 10 oscillazioni\r\n",
        "  commettendo un errore di +/- 0.2 s\r\n",
        "  sulla misura, \r\n",
        "  divido per 10 per trovare il periodo.\r\n",
        "  '''\r\n",
        "\r\n",
        "\r\n",
        "  theta = theta_0 * rand()   \r\n",
        "  meas_time = 10*period_0*(1+theta*theta/16) \r\n",
        "  meas_time = meas_time + 0.2*(rand()-0.5)*2\r\n",
        "  period = meas_time/N_period\r\n",
        "\r\n",
        "  g = 4*np.pi*np.pi*lenght/period**2\r\n",
        "  g_meas.append(g)\r\n",
        "\r\n",
        "plt.hist(g_meas, bins = 20)\r\n",
        "plt.show()"
      ],
      "execution_count": 8,
      "outputs": [
        {
          "output_type": "display_data",
          "data": {
            "image/png": "[encoded data removed]",
            "text/plain": [
              "<Figure size 432x288 with 1 Axes>"
            ]
          },
          "metadata": {
            "tags": [],
            "needs_background": "light"
          }
        }
      ]
    },
    {
      "cell_type": "code",
      "metadata": {
        "id": "uG4XsHuDZWuq"
      },
      "source": [
        ""
      ],
      "execution_count": null,
      "outputs": []
    },
    {
      "cell_type": "markdown",
      "metadata": {
        "id": "mjri_DI1citQ"
      },
      "source": [
        "# 3:\r\n",
        "*   No isocronismo\r\n",
        "*   Tempo di reazione\r\n",
        "*   Errore sulla misura del filo e sulla misura del baricentro (l' n% non ne tiene conto)"
      ]
    },
    {
      "cell_type": "code",
      "metadata": {
        "colab": {
          "base_uri": "https://localhost:8080/",
          "height": 265
        },
        "id": "_a79KE9ZchoK",
        "outputId": "d1cf4de0-e2e9-4cc2-9140-a63772c57fa0"
      },
      "source": [
        "N = 1000\r\n",
        "lenght_real = 1\r\n",
        "\r\n",
        "lenght_meas_error = 0.002 # si può sbagliare di +\\- 2mm \r\n",
        "                          # nella misura del filo compreso il baricentro\r\n",
        "\r\n",
        "\r\n",
        "'''\r\n",
        "r = 100*rand()\r\n",
        "if r < 10:\r\n",
        "  # il 10% degli studenti non tiene conto del baricentro \r\n",
        "  # del peso che è 3cm più basso del filo\r\n",
        "  lenght_meas = lenght_meas - 0.03\r\n",
        "'''\r\n",
        "\r\n",
        "g_real = 9.81\r\n",
        "theta_0 = 10/57.3 #rad = deg/57.3 \r\n",
        "g_meas = [] # g experimentally measured\r\n",
        "N_period = 10\r\n",
        "\r\n",
        "for i in range(N):\r\n",
        "  '''\r\n",
        "  Faccio partire il pendolo da un theta_0,\r\n",
        "  misuro il tempo di 10 oscillazioni\r\n",
        "  commettendo un errore di +/- 0.2 s\r\n",
        "  sulla misura, \r\n",
        "  divido per 10 per trovare il periodo.\r\n",
        "  '''\r\n",
        "\r\n",
        "\r\n",
        "\r\n",
        "  lenght_meas = lenght_real + lenght_meas_error*(rand()-0.5)*2\r\n",
        "\r\n",
        "  period_0 = 2*np.pi*np.sqrt(lenght_meas/g_real)\r\n",
        "  theta = theta_0 * rand()   \r\n",
        "  meas_time = 10*period_0*(1+theta*theta/16) \r\n",
        "  meas_time = meas_time + 0.2*(rand()-0.5)*2\r\n",
        "  period = meas_time/N_period\r\n",
        "\r\n",
        "  g = 4*np.pi*np.pi*lenght/period**2\r\n",
        "  g_meas.append(g)\r\n",
        "\r\n",
        "plt.hist(g_meas, bins = 20)\r\n",
        "plt.show()"
      ],
      "execution_count": 11,
      "outputs": [
        {
          "output_type": "display_data",
          "data": {
            "image/png": "[encoded data removed]",
            "text/plain": [
              "<Figure size 432x288 with 1 Axes>"
            ]
          },
          "metadata": {
            "tags": [],
            "needs_background": "light"
          }
        }
      ]
    },
    {
      "cell_type": "code",
      "metadata": {
        "id": "Zdk8UZULfsAn"
      },
      "source": [
        ""
      ],
      "execution_count": null,
      "outputs": []
    }
  ]
}